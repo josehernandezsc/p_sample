{
    "cells": [
        {
            "metadata": {},
            "cell_type": "markdown",
            "source": "# Maximize oil company profits by using decision optimization\n\nThis notebook includes everything you need to set up decision optimization engines. You will learn to build mathematical programming models to determine the best methods of maintaining a high quality product for oil company customers while maximizing profits.\n\nWhen you finish this notebook, you'll have a foundational knowledge of _Prescriptive Analytics_, and some working examples of decision optimization.\n\n>This notebook is part of <a href=\"https://rawgit.com/IBMDecisionOptimization/docplex-doc/master/docs/index.html\" target=\"_blank\" rel=\"noopener noreferrer\">Prescriptive Analytics for Python</a>.\n\n>It requires a valid subscription to **Decision Optimization on Cloud**. Try it for free <a href=\"https://developer.ibm.com/docloud\" target=\"_blank\" rel=\"noopener noreferrer\">here</a>.\n\nYou should have some familiarity with Python. This notebook runs on Python 2 and 3.\n\nYou will use publicly available data about oil production and delivery.\n\n"
        },
        {
            "metadata": {},
            "cell_type": "markdown",
            "source": "## Learning goals\n\n* Explore data by using pandas DataFrame methods\n* Plot data by using the matplotlib package\n* Make informed decisions from mathematical models to maximize profits.\n"
        },
        {
            "metadata": {},
            "cell_type": "markdown",
            "source": "## Table of contents\n\n- [How decision optimization can help](#How--decision-optimization-can-help)\n- [The problem](#The-problem:--Balance-production-to-profit)\n    - [Parameters of the problem](#The-parameters-of-the-problem)\n- [Setup](#Setup)\n    - [Step 1: Model the data](#Step-1:---Model-the-data)\n    - [Step 2: Install the packages](#Step-2:-Install-the-packages)\n    - [Step 3: Display the prepared data](#Step-3:-Display-the-prepared-data)  \n- [Set up the prescriptive model and run the analysis](#Set-up-the-prescriptive-model-and-run-the-analysis)    \n- [Summary](#Summary)\n"
        },
        {
            "metadata": {},
            "cell_type": "markdown",
            "source": "## How  decision optimization can help\n\n\nPrescriptive analytics technology, which includes decision optimization,  recommends actions that are based on desired outcomes.  It takes into account specific scenarios, resources, and knowledge of past and current events. With this insight, your organization can make better decisions and have greater control of business outcomes.  \n\nPrescriptive analytics can lead you to insight-based actions. It creates value through synergy with predictive analytics, which analyzes data to predict future outcomes.  \n\nPrescriptive analytics then takes the insight that you've gained to the next level by suggesting the optimal way to handle that future situation. Organizations that can act fast in dynamic conditions and make superior decisions in uncertain environments gain a strong competitive advantage.  \n<br/>\n\nWith prescriptive analytics, you can achieve the following goals: \n\n* Automate the complex decisions and trade-offs to better manage your limited resources\n* Take advantage of a future opportunity or mitigate a future risk\n* Proactively update recommendations based on changing events\n* Meet operational goals, increase customer loyalty, prevent threats and fraud, and optimize business processes\n\n\n\n\n***"
        },
        {
            "metadata": {},
            "cell_type": "markdown",
            "source": "<a id='section1'></a>\n## The problem:  Balance production to profit\n\n\n* An oil company manufactures different types of gasoline and diesel. Each type of gasoline is produced by blending different types of crude oils that must be purchased. The company must decide how much crude oil to buy to maximize its profits.  It must also respect processing capacities and quality levels.  And, finally, it must satisfy customer demand.\n\n* Blending problems are typical industry applications of Linear Programming (LP). \n    * LP can represent real life problems mathematically.  It uses an *objective function* to represent the goal that is to be minimized or maximized, and a set of *linear constraints* that define the conditions to be satisfied and the limitations of the real-life problem.  \n    * The *function* and *constraints* are expressed in terms of *decision variables*. \n    * The solution, which can be obtained from optimization engines such as IBM\u00ae ILOG\u00ae CPLEX\u00ae, provides the best values for these variables so that the objective function is optimized."
        },
        {
            "metadata": {},
            "cell_type": "markdown",
            "source": "### The parameters of the problem\n\n* The oil-blending problem consists of calculating different blends of gasoline according to specific quality criteria.\n\n* There are three types of gasoline manufactured:\n    *  super \n    *  regular \n    *  diesel \n* The company produces each type of gasoline by blending three types of crude oil: \n    *  crude1\n    *  crude2 \n    *  crude3 \n* The potential blendings are constrained because the gasoline must satisfy some quality criteria with respect to their lead content and their octane ratings.\n* The company must satisfy its customer demand, which is: \n    * 3,000 barrels a day of super\n    * 2,000 barrels a day of regular\n    * 1,000 barrels a day of diesel\n* The company can purchase 5,000 barrels of each type of crude oil per day, and can process at most 14,000 barrels a day.\n* The company has the option of advertising a gasoline, which increases the demand for this type of gasoline by ten barrels for every dollar spent. \n* It costs four dollars to transform a barrel of oil into a barrel of gasoline.\n\nThe goal is to maximize profit, which comes from the sales of the final products minus total costs. The costs consist of the purchase cost of the crude oils, production costs, and inventory costs.\n"
        },
        {
            "metadata": {},
            "cell_type": "markdown",
            "source": "## Setup\n"
        },
        {
            "metadata": {},
            "cell_type": "markdown",
            "source": "<a id='section2'></a>\n### Step 1:   Model the data\n\nTo model the data, you must consider the following factors: \n\n* For each type of crude oil:\n    * What are the capacities that can be bought?\n    * What is the buying price?\n    * What are the octane and lead levels?\n    \n* For each type of gasoline or diesel:\n    * What is the customer demand?\n    * What are the selling prices?\n    * What are the octane and lead levels?\n\n* What is the maximum level of production that is imposed by the factory's limit and a fixed production cost?\n    \n* What are the inventory costs for each final product and the blending proportions?\n\nAssume that the marginal production cost and maximum production are identical for all oil types.\n"
        },
        {
            "metadata": {},
            "cell_type": "markdown",
            "source": "### Step 2: Install the packages"
        },
        {
            "metadata": {},
            "cell_type": "markdown",
            "source": "### 2.1: Download the modeling library\n\nRun the following code to install the Python package, Decision Optimization CPLEX Modeling library (DOcplex). The DOcplex library contains the two modeling packages, Mathematical Programming and Constraint Programming.  You will use this package to formulate the optimization model.\n"
        },
        {
            "metadata": {},
            "cell_type": "code",
            "source": "!pip install docplex -q",
            "execution_count": 1,
            "outputs": []
        },
        {
            "metadata": {},
            "cell_type": "markdown",
            "source": "### 2.2: Set up the prescriptive engine\n\nTo solve the model, you will use a *solve service* on the cloud, which requires credentials.\n\nAccess the service by doing the following actions:\n1. Subscribe to the <a href=\"https://developer.ibm.com/docloud\" target=\"_blank\" rel=\"noopener noreferrer\">Decision Optimization on Cloud solve service</a>.\n2. Get the service URL and your personal API key (Client_id).\n3. Use the URL and key to initialize the DOcplex context as shown here:\n\n<div class=\"alert alert-block alert-info\">NOTE: Before you run the following code, make sure that you replace the value for **key** (*ENTER YOUR API KEY (Client_id) HERE*) with the one you just received.</div>\n"
        },
        {
            "metadata": {},
            "cell_type": "code",
            "source": "from docplex.mp.context import *\n\nurl= \"https://api-eu-gb-oaas.docloud.ibmcloud.com/job_manager/rest/v1\" #ENTER YOUR URL HERE\nkey = \"bm_api_ext_be1a4d35-e5c4-4517-9a55-768372a88ba5\" #ENTER YOUR API KEY (Client_id) HERE\n #{\n#\n#  \"url\": \"https://api-oaas.docloud.ibmcloud.com/job_manager/rest/v1\",\n#\n#  \"client_id\": \"bm_api_ext_be1a4d35-e5c4-4517-9a55-768372a88ba5\",\n#\n#  \"subscriptionId\": \"bm_ff8a5328-5740-4ff5-8726-b44df7f5a2db\"\n#\n#}\n\nctx = Context.make_default_context(url=url, key=key)",
            "execution_count": 2,
            "outputs": []
        },
        {
            "metadata": {
                "collapsed": true
            },
            "cell_type": "markdown",
            "source": "Here is an example of what you should enter when you are subscribed:\n\n`from docplex.cp.model import *\nurl= \"https://api-oaas.docloud.ibmcloud.com/job_manager/rest/v1/\"\nkey = \"api_5bf69af0-ba5f-4326-b8eb-4c9a2f909436\"\n`"
        },
        {
            "metadata": {},
            "cell_type": "markdown",
            "source": "### 2.3: Set up a multidimensional array\n\nYou create the arrays with the [known information](#The-parameters-of-the-problem) so that you can begin to solve for the potential unknown scenarios.\n\nThe first dimension of the **NumPy array** is the number of gasoline types.  For each gasoline type,  a NumPy array exists that contains the following attributes:\n*  capacity \n*  price \n*  octane\n*  lead level\n\nYou set up the same kind of array where each oil type contains the following attributes:\n*  demand \n*  price \n*  octane\n*  lead level\n\nWhen you run the following set of code you define a string array of gas_names and oil_names, and then an array of gas_data and oil_data each with the integer attribute values.  The result is a display of the number of gasoline types and the number of crude types:\n"
        },
        {
            "metadata": {},
            "cell_type": "code",
            "source": "import numpy as np\n\ngas_names = [\"super\", \"regular\", \"diesel\"]\n\ngas_data = np.array([[3000, 70, 10, 1], [2000, 60, 8, 2], [1000, 50, 6, 1]])\n\noil_names = [\"crude1\", \"crude2\", \"crude3\"]\n\noil_data = np.array([[5000, 45, 12, 0.5], [5000, 35, 6, 2], [5000, 25, 8, 3]])\n\nnb_gas  = len(gas_names)\nnb_oils = len(oil_names)\nrange_gas = range(nb_gas)\nrange_oil = range(nb_oils)\nprint(\"Number of gasoline types = {0}\".format(nb_gas))\nprint(\"Number of crude types = {0}\".format(nb_oils))\n\n# global data\nproduction_cost = 4\nproduction_max = 14000\n# each $1 spent on advertising increases demand by 10.\nadvert_return = 10",
            "execution_count": 4,
            "outputs": [
                {
                    "output_type": "stream",
                    "text": "Number of gasoline types = 3\nNumber of crude types = 3\n",
                    "name": "stdout"
                }
            ]
        },
        {
            "metadata": {},
            "cell_type": "markdown",
            "source": "### 2.4: Pandas library\n\nImport the [pandas](http://pandas.pydata.org/) library.  Pandas is an open source Python library for data analysis that you will use to store data. It contains data structures and data analysis tools for the Python programming language.  The pandas structures are built on top of NumPy."
        },
        {
            "metadata": {},
            "cell_type": "code",
            "source": "import pandas as pd\ngaspd = pd.DataFrame([(gas_names[i],int(gas_data[i][0]),int(gas_data[i][1]),int(gas_data[i][2]),int(gas_data[i][3])) \n                      for i in range_gas])\noilpd = pd.DataFrame([(oil_names[i],int(oil_data[i][0]),int(oil_data[i][1]),int(oil_data[i][2]),oil_data[i][3]) \n                      for i in range_oil])\ngaspd.columns = ['name','demand','price','octane','lead']\noilpd.columns= ['name','capacity','price','octane','lead']",
            "execution_count": 6,
            "outputs": []
        },
        {
            "metadata": {},
            "cell_type": "markdown",
            "source": "### Step 3: Display the prepared data\n\nNow, display the data that you just prepared."
        },
        {
            "metadata": {},
            "cell_type": "code",
            "source": "from IPython.display import display\nprint(\"Gas data:\")\ndisplay(gaspd)\nprint(\"Oil data:\")\ndisplay(oilpd)",
            "execution_count": 8,
            "outputs": [
                {
                    "output_type": "stream",
                    "text": "Gas data:\n",
                    "name": "stdout"
                },
                {
                    "output_type": "display_data",
                    "data": {
                        "text/plain": "      name  demand  price  octane  lead\n0    super    3000     70      10     1\n1  regular    2000     60       8     2\n2   diesel    1000     50       6     1",
                        "text/html": "<div>\n<style scoped>\n    .dataframe tbody tr th:only-of-type {\n        vertical-align: middle;\n    }\n\n    .dataframe tbody tr th {\n        vertical-align: top;\n    }\n\n    .dataframe thead th {\n        text-align: right;\n    }\n</style>\n<table border=\"1\" class=\"dataframe\">\n  <thead>\n    <tr style=\"text-align: right;\">\n      <th></th>\n      <th>name</th>\n      <th>demand</th>\n      <th>price</th>\n      <th>octane</th>\n      <th>lead</th>\n    </tr>\n  </thead>\n  <tbody>\n    <tr>\n      <th>0</th>\n      <td>super</td>\n      <td>3000</td>\n      <td>70</td>\n      <td>10</td>\n      <td>1</td>\n    </tr>\n    <tr>\n      <th>1</th>\n      <td>regular</td>\n      <td>2000</td>\n      <td>60</td>\n      <td>8</td>\n      <td>2</td>\n    </tr>\n    <tr>\n      <th>2</th>\n      <td>diesel</td>\n      <td>1000</td>\n      <td>50</td>\n      <td>6</td>\n      <td>1</td>\n    </tr>\n  </tbody>\n</table>\n</div>"
                    },
                    "metadata": {}
                },
                {
                    "output_type": "stream",
                    "text": "Oil data:\n",
                    "name": "stdout"
                },
                {
                    "output_type": "display_data",
                    "data": {
                        "text/plain": "     name  capacity  price  octane  lead\n0  crude1      5000     45      12   0.5\n1  crude2      5000     35       6   2.0\n2  crude3      5000     25       8   3.0",
                        "text/html": "<div>\n<style scoped>\n    .dataframe tbody tr th:only-of-type {\n        vertical-align: middle;\n    }\n\n    .dataframe tbody tr th {\n        vertical-align: top;\n    }\n\n    .dataframe thead th {\n        text-align: right;\n    }\n</style>\n<table border=\"1\" class=\"dataframe\">\n  <thead>\n    <tr style=\"text-align: right;\">\n      <th></th>\n      <th>name</th>\n      <th>capacity</th>\n      <th>price</th>\n      <th>octane</th>\n      <th>lead</th>\n    </tr>\n  </thead>\n  <tbody>\n    <tr>\n      <th>0</th>\n      <td>crude1</td>\n      <td>5000</td>\n      <td>45</td>\n      <td>12</td>\n      <td>0.5</td>\n    </tr>\n    <tr>\n      <th>1</th>\n      <td>crude2</td>\n      <td>5000</td>\n      <td>35</td>\n      <td>6</td>\n      <td>2.0</td>\n    </tr>\n    <tr>\n      <th>2</th>\n      <td>crude3</td>\n      <td>5000</td>\n      <td>25</td>\n      <td>8</td>\n      <td>3.0</td>\n    </tr>\n  </tbody>\n</table>\n</div>"
                    },
                    "metadata": {}
                }
            ]
        },
        {
            "metadata": {},
            "cell_type": "markdown",
            "source": "Your output should show you two tables:  one for gas data and one for oil data.  "
        },
        {
            "metadata": {},
            "cell_type": "markdown",
            "source": "## Set up the prescriptive model and run the analysis"
        },
        {
            "metadata": {},
            "cell_type": "markdown",
            "source": "When you have enough data, you can start to see patterns.  From the patterns, you can build a model of how the data works.  And then, with a model in hand, you can make optimized decisions.\n"
        },
        {
            "metadata": {},
            "cell_type": "markdown",
            "source": "### Create DOcplex model\nYou need a model to store all the variables and constraints that are needed to formulate the business problem.  Then you submit the problem to the solve service.\n"
        },
        {
            "metadata": {},
            "cell_type": "code",
            "source": "from docplex.mp.model import Model\n\nmdl = Model(name=\"oil_blending\")",
            "execution_count": 29,
            "outputs": []
        },
        {
            "metadata": {},
            "cell_type": "markdown",
            "source": "<div class=\"alert alert-block alert-warning\">NOTE: You might see a warning message.  This is expected because DOcplex tries to solve by using a local engine.  When the local engine is not found, then the solve is submitted to a service that runs on the cloud (DOcplexCloud) by using the URL/key that you received. \n</div>"
        },
        {
            "metadata": {},
            "cell_type": "markdown",
            "source": "### Create the decision variables\n\nA *decision variable* is a controllable input variable that represents some key decisions that you must make to achieve your goal. \n\nFor each combination of oil and gasoline, you must decide the quantity of oil to use to produce a gasoline. You use a decision variable to represent that amount. \n\nYou must create a matrix of continuous variables, indexed by the set of oils and the set of gasolines:\n\n"
        },
        {
            "metadata": {},
            "cell_type": "code",
            "source": "blends = mdl.continuous_var_matrix(keys1=nb_oils, keys2=nb_gas, lb=0)",
            "execution_count": 10,
            "outputs": []
        },
        {
            "metadata": {},
            "cell_type": "markdown",
            "source": "You must also decide how much money should be spent in advertising for each type of gasoline. Create a list of continuous variables, indexed by the gasolines:\n"
        },
        {
            "metadata": {},
            "cell_type": "code",
            "source": "adverts = mdl.continuous_var_list(nb_gas, lb=0)",
            "execution_count": 11,
            "outputs": []
        },
        {
            "metadata": {},
            "cell_type": "markdown",
            "source": "### Express the business constraints\n\nThe business constraints are the following requirements:\n\n- The **demand** for each gasoline type must be satisfied. The total demand includes the initial demand as stored in the data, plus a variable demand caused by the advertising. The increase in demand is assumed to be proportional to the advertising cost. \n        For each gasoline type, the total quantity produced must equal the raw demand plus \n        the demand increase created by the advertising:\n"
        },
        {
            "metadata": {},
            "cell_type": "code",
            "source": "for g in range(nb_gas):\n    # gasoline demand is numpy array field #0\n    gas_demand = gas_data[g][0]\n    mdl.add_constraint(mdl.sum(blends[o, g] for o in range(nb_oils)) == gas_demand + advert_return * adverts[g])",
            "execution_count": 12,
            "outputs": []
        },
        {
            "metadata": {},
            "cell_type": "markdown",
            "source": "- The **capacity** constraint on each oil type must also be satisfied.\n        For each type of oil, the total quantity used in all types of gasolines must \n        not exceed the maximum capacity for this oil:"
        },
        {
            "metadata": {},
            "cell_type": "code",
            "source": "for o in range_oil:\n    mdl.add_constraint(mdl.sum(blends[o,g] for g in range_gas) <= oil_data[o][0])",
            "execution_count": 13,
            "outputs": []
        },
        {
            "metadata": {},
            "cell_type": "markdown",
            "source": "- For each gasoline type, the **octane level** must be above a minimum level, and the **lead level** must be below a maximum level:\n       "
        },
        {
            "metadata": {},
            "cell_type": "code",
            "source": "# minimum octane level\nfor g in range_gas:\n    gas_octane = gas_data[g][2]\n    mdl.add_constraint(mdl.sum(blends[o,g]*(oil_data[o][2] - gas_octane) for o in range_oil) >= 0)\n    \n# maximum lead  level\nfor g in range_gas:\n    gas_lead = gas_data[g][3]\n    mdl.add_constraint(mdl.sum(blends[o,g]*(oil_data[o][3] - gas_lead) for o in range_oil) <= 0)",
            "execution_count": 14,
            "outputs": []
        },
        {
            "metadata": {},
            "cell_type": "markdown",
            "source": "\n+ The total production must not exceed the maximum (which is defined as 14000 barrels per day):"
        },
        {
            "metadata": {},
            "cell_type": "code",
            "source": "# -- maximum global production\nmdl.add_constraint(mdl.sum(blends) <= production_max)\n\nmdl.print_information()",
            "execution_count": 15,
            "outputs": [
                {
                    "output_type": "stream",
                    "text": "Model: oil_blending\n - number of variables: 12\n   - binary=0, integer=0, continuous=12\n - number of constraints: 13\n   - linear=13\n - parameters: defaults\n - problem type is: LP\n",
                    "name": "stdout"
                }
            ]
        },
        {
            "metadata": {},
            "cell_type": "markdown",
            "source": "## Define key performance indicators (KPI)\n\n\nThe objective or goal of the model is to maximize profit.  \n    * Profit is made from the sales of the final products minus total costs. \n    * The costs consist of the purchase cost of the crude oils, production costs, and inventory costs.\n    \nThe model maximizes the net revenue.  \n    * Net revenue is revenue minus oil cost and production cost.  \n    * Then, subtract the total advertising cost.\n\nTherefore, to define the business objective,  define a few *key performance indicators* (KPIs):\n\n* Total advertising cost\n- Total oil cost\n- Total production cost\n- Total revenue"
        },
        {
            "metadata": {},
            "cell_type": "code",
            "source": "# KPIs\ntotal_advert_cost = mdl.sum(adverts)\nmdl.add_kpi(total_advert_cost, \"Total advertising cost\")\ntotal_oil_cost = mdl.sum(blends[o,g] * oil_data[o][1] for o in range_oil for g in range_gas)\nmdl.add_kpi(total_oil_cost, \"Total Oil cost\")\ntotal_production_cost = production_cost * mdl.sum(blends)\nmdl.add_kpi(total_production_cost, \"Total production cost\")\ntotal_revenue = mdl.sum(blends[o,g] * gas_data[g][1] for g in range(nb_gas) for o in range(nb_oils))\nmdl.add_kpi(total_revenue, \"Total revenue\")\n\n# finally the objective\nmdl.maximize(total_revenue - total_oil_cost - total_production_cost - total_advert_cost)",
            "execution_count": 16,
            "outputs": []
        },
        {
            "metadata": {},
            "cell_type": "markdown",
            "source": "### Call the CPLEX solve service\nSolve the model on the cloud by running a solve method of the CPLEX solve service that solves the current model.\n\nThe  model was created with a context that contained the CPLEX subscription with the URL and key of the solve service.  So, you do not need to specify the context, the URL,  or the API key again when you call the solve() method.\n\nDisplay the objective and the KPI values after the solve by calling the method report() on the model.\n"
        },
        {
            "metadata": {},
            "cell_type": "code",
            "source": "mdl.solve()\nmdl.report()",
            "execution_count": 17,
            "outputs": [
                {
                    "output_type": "stream",
                    "text": "* model oil_blending solved with objective = 287750.000\n*  KPI: Total advertising cost = 750.000\n*  KPI: Total Oil cost         = 487500.000\n*  KPI: Total production cost  = 54000.000\n*  KPI: Total revenue          = 830000.000\n",
                    "name": "stdout"
                }
            ]
        },
        {
            "metadata": {},
            "cell_type": "markdown",
            "source": "<a id='section4'></a>\n### Analyze and display the solution\n\n\nFirst, get the KPI values and store them in a Pandas DataFrame:"
        },
        {
            "metadata": {},
            "cell_type": "code",
            "source": "all_kpis = [(kp.name, kp.compute()) for kp in mdl.iter_kpis()]\nkpis_bd = pd.DataFrame(all_kpis, columns=['kpi', 'value'])",
            "execution_count": 18,
            "outputs": []
        },
        {
            "metadata": {},
            "cell_type": "code",
            "source": "blend_values = [ [ blends[o,g].solution_value for g in range_gas] for o in range_oil]\ntotal_gas_prods = [sum(blend_values[o][g] for o in range_oil) for g in range_gas]\n\nprods = list(zip(gas_names, total_gas_prods))\nprods_bd = pd.DataFrame(prods)",
            "execution_count": 19,
            "outputs": []
        },
        {
            "metadata": {},
            "cell_type": "markdown",
            "source": "Then,  display some KPIs in pie charts by using the <a href=\"http://matplotlib.org/\" target=\"_blank\" rel=\"noopener no referrer\">matplotlib</a> Python package.\n"
        },
        {
            "metadata": {},
            "cell_type": "code",
            "source": "!pip install matplotlib -q",
            "execution_count": 20,
            "outputs": []
        },
        {
            "metadata": {},
            "cell_type": "code",
            "source": "!pip install brunel",
            "execution_count": 21,
            "outputs": [
                {
                    "output_type": "stream",
                    "text": "Requirement already satisfied: brunel in /opt/conda/envs/Python36/lib/python3.6/site-packages (2.3)\nRequirement already satisfied: jupyter-pip in /opt/conda/envs/Python36/lib/python3.6/site-packages (from brunel) (0.3.1)\nRequirement already satisfied: jinja2 in /opt/conda/envs/Python36/lib/python3.6/site-packages (from brunel) (2.10)\nRequirement already satisfied: pandas in /opt/conda/envs/Python36/lib/python3.6/site-packages (from brunel) (0.24.1)\nRequirement already satisfied: JPype1-py3 in /opt/conda/envs/Python36/lib/python3.6/site-packages (from brunel) (0.5.5.2)\nRequirement already satisfied: ipython in /opt/conda/envs/Python36/lib/python3.6/site-packages (from brunel) (7.2.0)\nRequirement already satisfied: MarkupSafe>=0.23 in /opt/conda/envs/Python36/lib/python3.6/site-packages (from jinja2->brunel) (1.1.0)\nRequirement already satisfied: numpy>=1.12.0 in /opt/conda/envs/Python36/lib/python3.6/site-packages (from pandas->brunel) (1.15.4)\nRequirement already satisfied: pytz>=2011k in /opt/conda/envs/Python36/lib/python3.6/site-packages (from pandas->brunel) (2018.9)\nRequirement already satisfied: python-dateutil>=2.5.0 in /opt/conda/envs/Python36/lib/python3.6/site-packages (from pandas->brunel) (2.7.5)\nRequirement already satisfied: pexpect; sys_platform != \"win32\" in /opt/conda/envs/Python36/lib/python3.6/site-packages (from ipython->brunel) (4.6.0)\nRequirement already satisfied: jedi>=0.10 in /opt/conda/envs/Python36/lib/python3.6/site-packages (from ipython->brunel) (0.13.2)\nRequirement already satisfied: pygments in /opt/conda/envs/Python36/lib/python3.6/site-packages (from ipython->brunel) (2.3.1)\nRequirement already satisfied: backcall in /opt/conda/envs/Python36/lib/python3.6/site-packages (from ipython->brunel) (0.1.0)\nRequirement already satisfied: setuptools>=18.5 in /opt/conda/envs/Python36/lib/python3.6/site-packages (from ipython->brunel) (40.8.0)\nRequirement already satisfied: decorator in /opt/conda/envs/Python36/lib/python3.6/site-packages (from ipython->brunel) (4.3.2)\nRequirement already satisfied: prompt-toolkit<2.1.0,>=2.0.0 in /opt/conda/envs/Python36/lib/python3.6/site-packages (from ipython->brunel) (2.0.8)\nRequirement already satisfied: pickleshare in /opt/conda/envs/Python36/lib/python3.6/site-packages (from ipython->brunel) (0.7.5)\nRequirement already satisfied: traitlets>=4.2 in /opt/conda/envs/Python36/lib/python3.6/site-packages (from ipython->brunel) (4.3.2)\nRequirement already satisfied: six>=1.5 in /opt/conda/envs/Python36/lib/python3.6/site-packages (from python-dateutil>=2.5.0->pandas->brunel) (1.12.0)\nRequirement already satisfied: ptyprocess>=0.5 in /opt/conda/envs/Python36/lib/python3.6/site-packages (from pexpect; sys_platform != \"win32\"->ipython->brunel) (0.6.0)\nRequirement already satisfied: parso>=0.3.0 in /opt/conda/envs/Python36/lib/python3.6/site-packages (from jedi>=0.10->ipython->brunel) (0.3.2)\nRequirement already satisfied: wcwidth in /opt/conda/envs/Python36/lib/python3.6/site-packages (from prompt-toolkit<2.1.0,>=2.0.0->ipython->brunel) (0.1.7)\nRequirement already satisfied: ipython-genutils in /opt/conda/envs/Python36/lib/python3.6/site-packages (from traitlets>=4.2->ipython->brunel) (0.2.0)\n",
                    "name": "stdout"
                }
            ]
        },
        {
            "metadata": {},
            "cell_type": "code",
            "source": "%matplotlib inline\nimport matplotlib.pyplot as plt\ndef display_pie(pie_values, pie_labels, colors=None):\n    plt.axis(\"equal\")\n    plt.pie(pie_values, labels=pie_labels, colors=colors, autopct=\"%1.1f%%\")\n    plt.show()\n    \nprint(\"KPIs: Revenue - Oil Cost - Production Cost\")\n                                                       \ndisplay_pie( [kpnv[1] for kpnv in all_kpis], [kpnv[0] for kpnv in all_kpis])",
            "execution_count": 22,
            "outputs": [
                {
                    "output_type": "stream",
                    "text": "KPIs: Revenue - Oil Cost - Production Cost\n",
                    "name": "stdout"
                },
                {
                    "output_type": "display_data",
                    "data": {
                        "text/plain": "<Figure size 432x288 with 1 Axes>",
                        "image/png": "[encoded data removed]"
                    },
                    "metadata": {}
                }
            ]
        },
        {
            "metadata": {},
            "cell_type": "markdown",
            "source": "##### Production output\n\nYou see from the result of the following code that the most produced gasoline type is by far **regular**:\n"
        },
        {
            "metadata": {},
            "cell_type": "code",
            "source": "display_pie(total_gas_prods, gas_names, colors=[\"green\", \"goldenrod\", \"lightGreen\"])",
            "execution_count": 23,
            "outputs": [
                {
                    "output_type": "display_data",
                    "data": {
                        "text/plain": "<Figure size 432x288 with 1 Axes>",
                        "image/png": "[encoded data removed]"
                    },
                    "metadata": {}
                }
            ]
        },
        {
            "metadata": {},
            "cell_type": "code",
            "source": "display(total_gas_prods)",
            "execution_count": 24,
            "outputs": [
                {
                    "output_type": "display_data",
                    "data": {
                        "text/plain": "[2999.9999999999995, 9500.0, 1000.0]"
                    },
                    "metadata": {}
                }
            ]
        },
        {
            "metadata": {},
            "cell_type": "markdown",
            "source": "\n\nNow,  plot the breakdown of oil blend quantities per gasoline type.\nYou will use a multiple bar chart diagram that displays all blend values for each pairing of oil with a gasoline type.\n"
        },
        {
            "metadata": {},
            "cell_type": "code",
            "source": "sblends = [(gas_names[n], oil_names[o], round(blends[o,n].solution_value)) for n in range_gas for o in range_oil]\n\nblends_bd = pd.DataFrame(sblends)",
            "execution_count": 25,
            "outputs": []
        },
        {
            "metadata": {},
            "cell_type": "code",
            "source": "print(\"*** Blend Repartition ***\")\nf, barplot = plt.subplots(1, figsize=(16,5))\n\nbar_width = 0.1\noffset = 0.12\nrho = 0.7\n\n# position ofg left-bar boundaries\nbar_l = [o for o in range_oil]\n\nmbar_w = 3*bar_width+2*max(0, offset-bar_width)\n\ntick_pos = [b*rho + mbar_w/2.0 for b in bar_l]\n\ncolors = ['olive', 'lightgreen', 'cadetblue']\n\nfor i in range_oil:\n    barplot.bar([b*rho + (i*offset) for b in bar_l], \n                blend_values[i], width=bar_width, color=colors[i], label=oil_names[i])\n\nplt.xticks(tick_pos, gas_names)\nbarplot.set_xlabel(\"gasolines\")\nbarplot.set_ylabel(\"blend\")\nplt.legend(loc=\"upper right\")\n                                                                          \n\n# Set a buffer around the edge\nplt.xlim([0, max(tick_pos)+mbar_w +0.5])\n\nplt.show()",
            "execution_count": 26,
            "outputs": [
                {
                    "output_type": "stream",
                    "text": "*** Blend Repartition ***\n",
                    "name": "stdout"
                },
                {
                    "output_type": "display_data",
                    "data": {
                        "text/plain": "<Figure size 1152x360 with 1 Axes>",
                        "image/png": "[encoded data removed]"
                    },
                    "metadata": {
                        "needs_background": "light"
                    }
                }
            ]
        },
        {
            "metadata": {},
            "cell_type": "markdown",
            "source": "<p class=\"alert alert-block alert-info\"> Notice the missing bar for (crude2, diesel); this result is expected since blend[crude2, diesel] is zero in the solution.</p>\n\n\nCheck the solution value of blends for **crude2** and **diesel**; remember that **crude2** has offset 1 and **diesel** has offset 2.\n\n\n<p class=\"alert alert-block alert-info\"> You can see  how the decision variable is automatically converted to a floating point data type.  If you had run the report method before you submitted the solve method, this report would raise an exception since no solution value would be present.</p>\n"
        },
        {
            "metadata": {},
            "cell_type": "code",
            "source": "print(\"* value of blend[crude2, diesel] is %g\" % blends[1,2])",
            "execution_count": 27,
            "outputs": [
                {
                    "output_type": "stream",
                    "text": "* value of blend[crude2, diesel] is 0\n",
                    "name": "stdout"
                }
            ]
        },
        {
            "metadata": {},
            "cell_type": "markdown",
            "source": "## Summary\n\nFrom the current model, you can see how much of each gasoline type,  with a particular quantity of each crude, that you can produce to get a maximized revenue of 830000 dollars.  You can change some of the constraints or the known variables to see different outcomes.  For example, increase the number of oil types, or change the initial cost of the fuel, then rerun the methods to present a different picture.\n\n\n\n"
        },
        {
            "metadata": {},
            "cell_type": "markdown",
            "source": "*****\n# Thanks for completing this notebook!\n*****\nYou learned how to:\n* Set up and use the IBM Decision Optimization CPLEX Modeling for Python to help in a predictive analysis of maximizing oil profits.\n* Explore data by using pandas DataFrame methods\n* Plot data by using the matplotlib package\n* Use the tools to make informed decisions from mathematical models.\n\n\nUseful links:\n* <a href=\"https://rawgit.com/IBMDecisionOptimization/docplex-doc/master/docs/index.html\" target=\"_blank\" rel=\"noopener noreferrer\">CPLEX Modeling for Python documentation</a>\n* <a href=\"https://developer.ibm.com/docloud/\" target=\"_blank\" rel=\"noopener noreferrer\">Decision Optimization on Cloud</a>\n* Need help with DOcplex or to report a bug? Please go <a href=\"https://developer.ibm.com/answers/smartspace/docloud\" target=\"_blank\" rel=\"noopener noreferrer\">here</a>\n*****"
        },
        {
            "metadata": {},
            "cell_type": "markdown",
            "source": "Copyright \u00a9 IBM 2017, 2018. This notebook and its source code are released under the terms of the MIT License."
        },
        {
            "metadata": {},
            "cell_type": "markdown",
            "source": "<div style=\"background:#F5F7FA; height:110px; padding: 2em; font-size:14px;\">\n<span style=\"font-size:18px;color:#152935;\">Love this notebook? </span>\n<span style=\"font-size:15px;color:#152935;float:right;margin-right:40px;\">Don't have an account yet?</span><br>\n<span style=\"color:#5A6872;\">Share it with your colleagues and help them discover the power of Watson Studio!</span>\n<span style=\"border: 1px solid #3d70b2;padding:8px;float:right;margin-right:40px; color:#3d70b2;\"><a href=\"https://ibm.co/wsnotebooks\" target=\"_blank\" style=\"color: #3d70b2;text-decoration: none;\">Sign Up</a></span><br>\n</div>"
        }
    ],
    "metadata": {
        "kernelspec": {
            "name": "python3",
            "display_name": "Python 3.6",
            "language": "python"
        },
        "language_info": {
            "name": "python",
            "version": "3.6.8",
            "mimetype": "text/x-python",
            "codemirror_mode": {
                "name": "ipython",
                "version": 3
            },
            "pygments_lexer": "ipython3",
            "nbconvert_exporter": "python",
            "file_extension": ".py"
        },
        "celltoolbar": "Dashboard"
    },
    "nbformat": 4,
    "nbformat_minor": 1
}